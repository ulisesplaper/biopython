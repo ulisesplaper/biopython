{
 "cells": [
  {
   "cell_type": "code",
   "execution_count": 1,
   "metadata": {},
   "outputs": [
    {
     "data": {
      "text/plain": [
       "'\\n NAME\\n      numpy_ejercicios.py\\nVERSION\\n        7t1.0.0.\\nAUTHOR\\n        Victor Ulises Plascencia Perez\\nDESCRIPTION\\n        Ejercicio propuestos para la clase de numpy de\\n        Biopython de la LCG de la UNAM\\nUSAGE\\n       None     \\nARGUMENTS\\n     None   \\nSEE ALSO\\nGitHub link\\n        https://github.com/ulisesplaper/python_class/blob/master/src/ejercicios_numpy.ipynb\\n\\n'"
      ]
     },
     "execution_count": 1,
     "metadata": {},
     "output_type": "execute_result"
    }
   ],
   "source": [
    "'''\n",
    " NAME\n",
    "      numpy_ejercicios.py\n",
    "VERSION\n",
    "        7t1.0.0.\n",
    "AUTHOR\n",
    "        Victor Ulises Plascencia Perez\n",
    "DESCRIPTION\n",
    "        Ejercicio propuestos para la clase de numpy de\n",
    "        Biopython de la LCG de la UNAM\n",
    "USAGE\n",
    "       None     \n",
    "ARGUMENTS\n",
    "     None   \n",
    "SEE ALSO\n",
    "GitHub link\n",
    "        https://github.com/ulisesplaper/python_class/blob/master/src/ejercicios_numpy.ipynb\n",
    "\n",
    "'''"
   ]
  },
  {
   "cell_type": "code",
   "execution_count": 2,
   "metadata": {},
   "outputs": [],
   "source": [
    "# Importar la libreria numpy\n",
    "import numpy as np"
   ]
  },
  {
   "cell_type": "markdown",
   "metadata": {},
   "source": [
    "## Ejercicio 1 - Parte 1"
   ]
  },
  {
   "cell_type": "code",
   "execution_count": 11,
   "metadata": {},
   "outputs": [
    {
     "name": "stdout",
     "output_type": "stream",
     "text": [
      "La produccion en g/l es:\n",
      "[[ 5.  3.]\n",
      " [11.  7.]\n",
      " [ 4.  9.]\n",
      " [10.  3.]]\n"
     ]
    }
   ],
   "source": [
    "# Leer el archivo de produccion en g/ml\n",
    "prod_g_mL = np.genfromtxt('../data/prod_gml.csv', delimiter=',')\n",
    "# Multiplicar la matriz que almacena la produccion *1000\n",
    "prod_g_L = prod_g_mL*1000\n",
    "# Visualizar el resultado\n",
    "print(f\"La produccion en g/l es:\\n{prod_g_L}\")"
   ]
  },
  {
   "cell_type": "markdown",
   "metadata": {},
   "source": [
    "## Ejercicio 1 - Parte 2"
   ]
  },
  {
   "cell_type": "code",
   "execution_count": 12,
   "metadata": {},
   "outputs": [],
   "source": [
    "# Leer el archivo de costos de inductores\n",
    "ind_cost = np.genfromtxt('../data/ind_cost.csv', delimiter=',')\n"
   ]
  },
  {
   "cell_type": "code",
   "execution_count": 13,
   "metadata": {},
   "outputs": [
    {
     "name": "stdout",
     "output_type": "stream",
     "text": [
      "Los costos del inductor a 30° C son [ 6.125  8.75  12.25   7.525]\n",
      "Los costos del inductor a 35° C son [2.8  4.   5.6  3.44]\n"
     ]
    }
   ],
   "source": [
    "# Obtener los costos\n",
    "ind_cost_30 = ind_cost * 1.75\n",
    "print(f\"Los costos del inductor a 30° C son {ind_cost_30}\")\n",
    "ind_cost_35 = ind_cost * 0.8\n",
    "print(f\"Los costos del inductor a 35° C son {ind_cost_35}\")"
   ]
  },
  {
   "cell_type": "markdown",
   "metadata": {},
   "source": [
    "## Ejercicio 2"
   ]
  },
  {
   "cell_type": "code",
   "execution_count": 14,
   "metadata": {},
   "outputs": [],
   "source": [
    "# Obtener los costos de produccion por gramo para cada gene\n",
    "cost_g_L_30 = ind_cost_30 / prod_g_L[:,0]\n",
    "cost_g_L_35 = ind_cost_35  / prod_g_L[:,1]"
   ]
  },
  {
   "cell_type": "code",
   "execution_count": 15,
   "metadata": {},
   "outputs": [
    {
     "name": "stdout",
     "output_type": "stream",
     "text": [
      "Los costos de produccion por gramo a 30° C son [1.225      0.79545455 3.0625     0.7525    ]\n",
      "Los costos de produccion por gramo a 35° C son [0.93333333 0.57142857 0.62222222 1.14666667]\n"
     ]
    }
   ],
   "source": [
    "print(f\"Los costos de produccion por gramo a 30° C son {cost_g_L_30}\")\n",
    "print(f\"Los costos de produccion por gramo a 35° C son {cost_g_L_35}\")"
   ]
  },
  {
   "cell_type": "markdown",
   "metadata": {},
   "source": [
    "## Ejercicio 3"
   ]
  },
  {
   "cell_type": "code",
   "execution_count": 16,
   "metadata": {},
   "outputs": [
    {
     "name": "stdout",
     "output_type": "stream",
     "text": [
      "El(Los) gen(es) en los que cuesta menos producir a 30°     que a 35° son: [4] con un costo de [0.7525]\n"
     ]
    }
   ],
   "source": [
    "# Generar un vector de genes para el mensaje informativo\n",
    "genes = np.array([1,2,3,4])\n",
    "# Obtener la diferencia de producir a 30° menos producir a 35°\n",
    "dif_cost = cost_g_L_30 - cost_g_L_35\n",
    "# Acceder al vector de costos de producción a 30° C para determinar\n",
    "# los costos que son menores que producir a 35° junto con un mensaje\n",
    "a = 2\n",
    "print(f\"El(Los) gen(es) en los que cuesta menos producir a 30° \\\n",
    "    que a 35° son: {genes[dif_cost<0]} con un costo de {cost_g_L_30[dif_cost<0]}\")\n",
    "\n"
   ]
  }
 ],
 "metadata": {
  "kernelspec": {
   "display_name": "Python 3.10.6 ('base')",
   "language": "python",
   "name": "python3"
  },
  "language_info": {
   "codemirror_mode": {
    "name": "ipython",
    "version": 3
   },
   "file_extension": ".py",
   "mimetype": "text/x-python",
   "name": "python",
   "nbconvert_exporter": "python",
   "pygments_lexer": "ipython3",
   "version": "3.10.6"
  },
  "orig_nbformat": 4,
  "vscode": {
   "interpreter": {
    "hash": "ef3440cf84f0f9f954ec5122faeb156f93df417665c3d92620dcbf34c20c593e"
   }
  }
 },
 "nbformat": 4,
 "nbformat_minor": 2
}
